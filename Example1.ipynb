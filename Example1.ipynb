{
 "cells": [
  {
   "cell_type": "code",
   "execution_count": null,
   "metadata": {},
   "outputs": [],
   "source": [
    "import pandas as pd\n",
    "import numpy  as np \n",
    "import random\n",
    "import talib\n",
    "from lightweight_charts import JupyterChart\n",
    "from colour import Color\n",
    "\n",
    "\n",
    "from Classes.Brain import *\n",
    "from Classes.Indicator import *\n",
    "from Classes.Trade import *"
   ]
  },
  {
   "cell_type": "code",
   "execution_count": null,
   "metadata": {},
   "outputs": [],
   "source": [
    "ratioRR = 10\n",
    "\n",
    "\n",
    "\n",
    "ind_crossEMA = Indicator(\"EMA21_X_EMA55\")\n",
    "\n",
    "ind_crossEMA.SetNewBuffer(numBuffer=0, titleBuffer='ema21', jobBuffer='DrawLine', widthBuffer=1, colorBuffer=Color('green') , typeWindow='SamePanel')\n",
    "ind_crossEMA.SetNewBuffer(numBuffer=1, titleBuffer='ema55', jobBuffer='DrawLine', widthBuffer=1, colorBuffer=Color('orange'), typeWindow='SamePanel')\n",
    "\n",
    "ind_crossEMA.SetNewBuffer(numBuffer=2, titleBuffer='ArrowUps', jobBuffer='DrawArrowUps', widthBuffer=1, colorBuffer=Color('green'), typeWindow='SamePanel')\n",
    "ind_crossEMA.SetNewBuffer(numBuffer=3, titleBuffer='ArrowDns', jobBuffer='DrawArrowDns', widthBuffer=1, colorBuffer=Color('red')  , typeWindow='SamePanel')\n",
    "\n",
    "ind_crossEMA.SetNewBuffer(numBuffer=4, titleBuffer='Trades', jobBuffer='Signal')\n",
    "\n",
    "\n",
    "\n",
    "\n",
    "\n",
    "def My_Custom_OnStart_Function(objIndicator:Indicator ,times:np.array, opens:np.array, highs:np.array, lows:np.array, closes:np.array, spread:np.array, volume:np.array):\n",
    "\n",
    "\n",
    "    ema21 = talib.EMA(closes, 21)\n",
    "    ema55 = talib.EMA(closes, 55)\n",
    "    \n",
    "\n",
    "\n",
    "\n",
    "    for i in range(len(times)):  #process buffer 0 and 1\n",
    "\n",
    "        objIndicator.SefValueBufferAtIndex(0, i, ema21[i])\n",
    "        objIndicator.SefValueBufferAtIndex(1, i, ema55[i])\n",
    "    #\n",
    "\n",
    "    \n",
    "    for i in range(len(times)):  #process buffer 2 and 3\n",
    "\n",
    "        currEMA21 = (objIndicator.GetValueBufferAtIndex(0, i-0))\n",
    "        currEMA55 = (objIndicator.GetValueBufferAtIndex(1, i-0))\n",
    "\n",
    "        prevEMA21 = (objIndicator.GetValueBufferAtIndex(0, i-1))\n",
    "        prevEMA55 = (objIndicator.GetValueBufferAtIndex(1, i-1))\n",
    "\n",
    "\n",
    "\n",
    "        if (prevEMA21<prevEMA55 and currEMA21>currEMA55):\n",
    "\n",
    "            objIndicator.SefValueBufferAtIndex(2, i, 1)\n",
    "        #\n",
    "        \n",
    "        if (prevEMA21>prevEMA55 and currEMA21<currEMA55):\n",
    "\n",
    "            objIndicator.SefValueBufferAtIndex(3, i, 1)\n",
    "        #\n",
    "    #\n",
    "\n",
    "\n",
    "    for i in range(len(times)):  #process buffer 4\n",
    "        pass\n",
    "        # if (objIndicator.GetValueBufferAtIndex(2, i-1) is not None):\n",
    "\n",
    "        #     priceOpening   = opens[i]\n",
    "        #     priceSL        = ((objIndicator.GetValueBufferAtIndex(2, i-2) + objIndicator.GetValueBufferAtIndex(3, i-2)) / 2)\n",
    "        #     distanceOpenSL = abs(priceOpening-priceSL)\n",
    "        #     priceTP        = priceOpening + (distanceOpenSL*ratioRR)\n",
    "\n",
    "        #     newSignal = SignalRequest(action='NewOrderMarket', direction='BuyLong', valueVolume=1000, priceSL=priceSL , priceTP=priceTP)\n",
    "\n",
    "        #     objIndicator.SefValueBufferAtIndex(4, i, newSignal)\n",
    "        # #\n",
    "\n",
    "\n",
    "        # if (objIndicator.GetValueBufferAtIndex(3, i-1) is not None):\n",
    "\n",
    "        #     priceOpening   = opens[i]\n",
    "        #     priceSL        = ((objIndicator.GetValueBufferAtIndex(2, i-2) + objIndicator.GetValueBufferAtIndex(3, i-2)) / 2)\n",
    "        #     distanceOpenSL = abs(priceOpening-priceSL)\n",
    "        #     priceTP        = priceOpening - (distanceOpenSL*ratioRR)\n",
    "\n",
    "        #     newSignal = SignalRequest(action='NewOrderMarket', direction='SellShort', valueVolume=1000, priceSL=priceSL , priceTP=priceTP)\n",
    "\n",
    "        #     objIndicator.SefValueBufferAtIndex(4, i, newSignal)\n",
    "        # #\n",
    "    #\n",
    "#\n",
    "\n",
    "\n",
    "\n",
    "ind_crossEMA.SetFunctionOnStart(My_Custom_OnStart_Function)"
   ]
  },
  {
   "cell_type": "code",
   "execution_count": null,
   "metadata": {},
   "outputs": [],
   "source": [
    "df = pd.read_csv('./0_RawChartData/Crypto_Binance_BTCUSDT.P_5min.csv')\n",
    "\n",
    "\n",
    "df['time'] = pd.to_datetime(df['DATE'] + ' ' + df['TIME'])\n",
    "cols = ['time'] + [col for col in df.columns if col != 'time']\n",
    "df = df[cols]\n",
    "\n",
    "df.drop(columns=['DATE', 'TIME', 'TICKVOL'], inplace=True)\n",
    "df.rename(columns={'time':'time', 'OPEN':'open', 'HIGH':'high', 'LOW':'low', 'CLOSE':'close', 'VOL':'volume', 'SPREAD':'spread'}, inplace=True)\n",
    "\n",
    "\n",
    "df = df.head(5000)\n",
    "# df"
   ]
  },
  {
   "cell_type": "code",
   "execution_count": null,
   "metadata": {},
   "outputs": [],
   "source": [
    "BrainMostafaRoohy = Brain(df, 1000, 'TwoWay')\n",
    "BrainMostafaRoohy.AddIndicator(ind_crossEMA)"
   ]
  },
  {
   "cell_type": "code",
   "execution_count": null,
   "metadata": {},
   "outputs": [],
   "source": [
    "BrainMostafaRoohy.Think()"
   ]
  },
  {
   "cell_type": "code",
   "execution_count": null,
   "metadata": {},
   "outputs": [],
   "source": [
    "BrainMostafaRoohy.Imagine()"
   ]
  },
  {
   "cell_type": "code",
   "execution_count": null,
   "metadata": {},
   "outputs": [],
   "source": []
  }
 ],
 "metadata": {
  "kernelspec": {
   "display_name": "base",
   "language": "python",
   "name": "python3"
  },
  "language_info": {
   "codemirror_mode": {
    "name": "ipython",
    "version": 3
   },
   "file_extension": ".py",
   "mimetype": "text/x-python",
   "name": "python",
   "nbconvert_exporter": "python",
   "pygments_lexer": "ipython3",
   "version": "3.12.2"
  }
 },
 "nbformat": 4,
 "nbformat_minor": 2
}
