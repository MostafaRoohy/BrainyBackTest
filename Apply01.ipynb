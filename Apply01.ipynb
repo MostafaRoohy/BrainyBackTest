{
 "cells": [
  {
   "cell_type": "code",
   "execution_count": null,
   "metadata": {},
   "outputs": [],
   "source": [
    "import pandas as pd\n",
    "import numpy  as np \n",
    "import random\n",
    "import talib\n",
    "from lightweight_charts import JupyterChart\n",
    "\n",
    "from Classes import Brain as br\n",
    "from Classes import Candle as cd\n",
    "from Classes import Indicator as ind\n",
    "from Classes import Trade as tr"
   ]
  },
  {
   "cell_type": "code",
   "execution_count": null,
   "metadata": {},
   "outputs": [],
   "source": [
    "ind_sma10 = ind.Indicator()\n",
    "ind_sma10.SetNewBuffer(numBuffer=0, titleBuffer='SMA10', jobBuffer='DrawLine', typeWindow='SamePanel')\n",
    "\n",
    "\n",
    "def My_Function(time:np.array, opens:np.array, highs:np.array, lows:np.array, closes:np.array, spread:np.array, volume:np.array):\n",
    "\n",
    "    pass\n",
    "#"
   ]
  },
  {
   "cell_type": "code",
   "execution_count": null,
   "metadata": {},
   "outputs": [],
   "source": []
  },
  {
   "cell_type": "code",
   "execution_count": null,
   "metadata": {},
   "outputs": [],
   "source": []
  },
  {
   "cell_type": "code",
   "execution_count": null,
   "metadata": {},
   "outputs": [],
   "source": []
  },
  {
   "cell_type": "code",
   "execution_count": null,
   "metadata": {},
   "outputs": [],
   "source": []
  },
  {
   "cell_type": "code",
   "execution_count": null,
   "metadata": {},
   "outputs": [],
   "source": []
  },
  {
   "cell_type": "code",
   "execution_count": null,
   "metadata": {},
   "outputs": [],
   "source": []
  },
  {
   "cell_type": "code",
   "execution_count": null,
   "metadata": {},
   "outputs": [],
   "source": []
  },
  {
   "cell_type": "code",
   "execution_count": null,
   "metadata": {},
   "outputs": [],
   "source": [
    "df = pd.read_csv('./0_RawChartData/Crypto_Binance_BTCUSDT.P_5min.csv')\n",
    "\n",
    "\n",
    "df['time'] = pd.to_datetime(df['DATE'] + ' ' + df['TIME'])\n",
    "cols = ['time'] + [col for col in df.columns if col != 'time']\n",
    "df = df[cols]\n",
    "\n",
    "df.drop(columns=['DATE', 'TIME', 'TICKVOL'], inplace=True)\n",
    "df.rename(columns={'time':'time', 'OPEN':'open', 'HIGH':'high', 'LOW':'low', 'CLOSE':'close', 'VOL':'volume', 'SPREAD':'spread'}, inplace=True)\n",
    "\n",
    "\n",
    "df = df.head(200)\n",
    "df"
   ]
  },
  {
   "cell_type": "code",
   "execution_count": null,
   "metadata": {},
   "outputs": [],
   "source": [
    "BrainMostafaRoohy = br.Brain(df, 1000, 'TwoWay')"
   ]
  },
  {
   "cell_type": "code",
   "execution_count": null,
   "metadata": {},
   "outputs": [],
   "source": []
  },
  {
   "cell_type": "code",
   "execution_count": null,
   "metadata": {},
   "outputs": [],
   "source": []
  }
 ],
 "metadata": {
  "kernelspec": {
   "display_name": "base",
   "language": "python",
   "name": "python3"
  },
  "language_info": {
   "codemirror_mode": {
    "name": "ipython",
    "version": 3
   },
   "file_extension": ".py",
   "mimetype": "text/x-python",
   "name": "python",
   "nbconvert_exporter": "python",
   "pygments_lexer": "ipython3",
   "version": "3.12.2"
  }
 },
 "nbformat": 4,
 "nbformat_minor": 2
}
